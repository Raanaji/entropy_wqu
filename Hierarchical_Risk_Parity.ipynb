{
 "cells": [
  {
   "cell_type": "code",
   "execution_count": null,
   "metadata": {
    "id": "q5MOOM8B9Z6m"
   },
   "outputs": [],
   "source": [
    "pip install PyPortfolioOpt"
   ]
  },
  {
   "cell_type": "code",
   "execution_count": null,
   "metadata": {
    "id": "j-1Wuvjq9ajc"
   },
   "outputs": [],
   "source": [
    "pip install yfinance"
   ]
  },
  {
   "cell_type": "code",
   "execution_count": null,
   "metadata": {
    "id": "qR6KYsey9asG"
   },
   "outputs": [],
   "source": [
    "pip install pulp"
   ]
  },
  {
   "cell_type": "code",
   "execution_count": null,
   "metadata": {
    "id": "XL4NjzYW9awm"
   },
   "outputs": [],
   "source": [
    "pip install quandl"
   ]
  },
  {
   "cell_type": "code",
   "execution_count": null,
   "metadata": {
    "id": "5O2nBkyJrMu7"
   },
   "outputs": [],
   "source": [
    "#Hierarchical Risk Parity (Lopez de Prado 2016)\n",
    "\n",
    "import pandas as pd\n",
    "import numpy as np\n",
    "from scipy.cluster.hierarchy import dendrogram, linkage\n",
    "from matplotlib import pyplot as plt\n",
    "import matplotlib"
   ]
  },
  {
   "cell_type": "code",
   "execution_count": null,
   "metadata": {
    "colab": {
     "base_uri": "https://localhost:8080/",
     "height": 238
    },
    "executionInfo": {
     "elapsed": 43,
     "status": "ok",
     "timestamp": 1633585901472,
     "user": {
      "displayName": "Tanishq Chauhan",
      "photoUrl": "https://lh3.googleusercontent.com/a-/AOh14GggkDwz2kbsiN3be9s1OYgcBFC5-sc3hTfGRlNnyg=s64",
      "userId": "17101909825884887186"
     },
     "user_tz": -330
    },
    "id": "QWOxFUwTriZI",
    "outputId": "609a9c87-17db-4a72-e438-264598bd06a4"
   },
   "outputs": [
    {
     "data": {
      "text/html": [
       "<div>\n",
       "<style scoped>\n",
       "    .dataframe tbody tr th:only-of-type {\n",
       "        vertical-align: middle;\n",
       "    }\n",
       "\n",
       "    .dataframe tbody tr th {\n",
       "        vertical-align: top;\n",
       "    }\n",
       "\n",
       "    .dataframe thead th {\n",
       "        text-align: right;\n",
       "    }\n",
       "</style>\n",
       "<table border=\"1\" class=\"dataframe\">\n",
       "  <thead>\n",
       "    <tr style=\"text-align: right;\">\n",
       "      <th></th>\n",
       "      <th>SBIN.NS</th>\n",
       "      <th>TATAMOTORS.NS</th>\n",
       "      <th>RELIANCE.NS</th>\n",
       "      <th>LT.NS</th>\n",
       "      <th>TATASTEEL.NS</th>\n",
       "    </tr>\n",
       "    <tr>\n",
       "      <th>Date</th>\n",
       "      <th></th>\n",
       "      <th></th>\n",
       "      <th></th>\n",
       "      <th></th>\n",
       "      <th></th>\n",
       "    </tr>\n",
       "  </thead>\n",
       "  <tbody>\n",
       "    <tr>\n",
       "      <th>2015-08-03</th>\n",
       "      <td>NaN</td>\n",
       "      <td>NaN</td>\n",
       "      <td>NaN</td>\n",
       "      <td>NaN</td>\n",
       "      <td>NaN</td>\n",
       "    </tr>\n",
       "    <tr>\n",
       "      <th>2015-08-04</th>\n",
       "      <td>0.026864</td>\n",
       "      <td>-0.019191</td>\n",
       "      <td>-0.014415</td>\n",
       "      <td>-0.002613</td>\n",
       "      <td>0.033676</td>\n",
       "    </tr>\n",
       "    <tr>\n",
       "      <th>2015-08-05</th>\n",
       "      <td>-0.011088</td>\n",
       "      <td>-0.011425</td>\n",
       "      <td>-0.000253</td>\n",
       "      <td>0.002733</td>\n",
       "      <td>0.023410</td>\n",
       "    </tr>\n",
       "    <tr>\n",
       "      <th>2015-08-06</th>\n",
       "      <td>0.012789</td>\n",
       "      <td>0.017800</td>\n",
       "      <td>-0.008909</td>\n",
       "      <td>0.028743</td>\n",
       "      <td>-0.004956</td>\n",
       "    </tr>\n",
       "    <tr>\n",
       "      <th>2015-08-07</th>\n",
       "      <td>-0.026812</td>\n",
       "      <td>0.026886</td>\n",
       "      <td>0.005516</td>\n",
       "      <td>0.001475</td>\n",
       "      <td>0.004023</td>\n",
       "    </tr>\n",
       "  </tbody>\n",
       "</table>\n",
       "</div>"
      ],
      "text/plain": [
       "             SBIN.NS  TATAMOTORS.NS  RELIANCE.NS     LT.NS  TATASTEEL.NS\n",
       "Date                                                                    \n",
       "2015-08-03       NaN            NaN          NaN       NaN           NaN\n",
       "2015-08-04  0.026864      -0.019191    -0.014415 -0.002613      0.033676\n",
       "2015-08-05 -0.011088      -0.011425    -0.000253  0.002733      0.023410\n",
       "2015-08-06  0.012789       0.017800    -0.008909  0.028743     -0.004956\n",
       "2015-08-07 -0.026812       0.026886     0.005516  0.001475      0.004023"
      ]
     },
     "execution_count": 74,
     "metadata": {},
     "output_type": "execute_result"
    }
   ],
   "source": [
    "df= pd.read_csv(\"capstone_input_data.csv\")\n",
    "df.Date = pd.to_datetime(df.Date, dayfirst = True)\n",
    "df.set_index(\"Date\", inplace = True)\n",
    "returns=df.pct_change()\n",
    "returns.head()"
   ]
  },
  {
   "cell_type": "code",
   "execution_count": null,
   "metadata": {
    "colab": {
     "base_uri": "https://localhost:8080/"
    },
    "executionInfo": {
     "elapsed": 43,
     "status": "ok",
     "timestamp": 1633585901473,
     "user": {
      "displayName": "Tanishq Chauhan",
      "photoUrl": "https://lh3.googleusercontent.com/a-/AOh14GggkDwz2kbsiN3be9s1OYgcBFC5-sc3hTfGRlNnyg=s64",
      "userId": "17101909825884887186"
     },
     "user_tz": -330
    },
    "id": "TijCe3ewrnkQ",
    "outputId": "8bc61095-3c80-43d6-857f-d663c8933e37"
   },
   "outputs": [
    {
     "data": {
      "text/plain": [
       "Index(['SBIN.NS', 'TATAMOTORS.NS', 'RELIANCE.NS', 'LT.NS', 'TATASTEEL.NS'], dtype='object')"
      ]
     },
     "execution_count": 75,
     "metadata": {},
     "output_type": "execute_result"
    }
   ],
   "source": [
    "returns.columns"
   ]
  },
  {
   "cell_type": "code",
   "execution_count": null,
   "metadata": {
    "id": "5RqXxmu4a3A0"
   },
   "outputs": [],
   "source": [
    "# correlation matrix\n",
    "corr_matrix = returns.corr()\n",
    "# distance matrix\n",
    "dist_corr = np.sqrt(0.5*(1-corr_matrix))"
   ]
  },
  {
   "cell_type": "code",
   "execution_count": null,
   "metadata": {
    "id": "-B2tl6jQrS3Y"
   },
   "outputs": [],
   "source": [
    "# correlation matrix\n",
    "# corr replaced by corr_matrix = returns.corr() \n",
    "# distance matrix\n",
    "# d_corr replaced by dist_corr = np.sqrt(0.5*(1-corr))"
   ]
  },
  {
   "cell_type": "code",
   "execution_count": null,
   "metadata": {
    "colab": {
     "base_uri": "https://localhost:8080/",
     "height": 611
    },
    "executionInfo": {
     "elapsed": 1057,
     "status": "ok",
     "timestamp": 1633585902492,
     "user": {
      "displayName": "Tanishq Chauhan",
      "photoUrl": "https://lh3.googleusercontent.com/a-/AOh14GggkDwz2kbsiN3be9s1OYgcBFC5-sc3hTfGRlNnyg=s64",
      "userId": "17101909825884887186"
     },
     "user_tz": -330
    },
    "id": "YXyyCm64sHpu",
    "outputId": "e0c2dbee-bd0f-448d-d2f9-5b6d63c2f883"
   },
   "outputs": [
    {
     "name": "stderr",
     "output_type": "stream",
     "text": [
      "/usr/local/lib/python3.7/dist-packages/ipykernel_launcher.py:2: ClusterWarning: scipy.cluster: The symmetric non-negative hollow observation matrix looks suspiciously like an uncondensed distance matrix\n",
      "  \n"
     ]
    },
    {
     "data": {
      "image/png": "[encoded data removed]",
      "text/plain": [
       "<Figure size 1800x720 with 1 Axes>"
      ]
     },
     "metadata": {
      "needs_background": "light"
     },
     "output_type": "display_data"
    }
   ],
   "source": [
    "# Performing hierarchical/agglomerative clustering.\n",
    "linkage = linkage(dist_corr, 'single')\n",
    "Ze = pd.DataFrame(linkage)\n",
    "\n",
    "fig = plt.figure(figsize=(25, 10))\n",
    "dendogram = dendrogram(Ze)\n",
    "# plt.show()"
   ]
  },
  {
   "cell_type": "code",
   "execution_count": null,
   "metadata": {
    "colab": {
     "base_uri": "https://localhost:8080/",
     "height": 175
    },
    "executionInfo": {
     "elapsed": 22,
     "status": "ok",
     "timestamp": 1633585902492,
     "user": {
      "displayName": "Tanishq Chauhan",
      "photoUrl": "https://lh3.googleusercontent.com/a-/AOh14GggkDwz2kbsiN3be9s1OYgcBFC5-sc3hTfGRlNnyg=s64",
      "userId": "17101909825884887186"
     },
     "user_tz": -330
    },
    "id": "0CKDi-_KsPHj",
    "outputId": "2334df13-c027-40a5-b644-5a94b980e70a"
   },
   "outputs": [
    {
     "data": {
      "text/html": [
       "<div>\n",
       "<style scoped>\n",
       "    .dataframe tbody tr th:only-of-type {\n",
       "        vertical-align: middle;\n",
       "    }\n",
       "\n",
       "    .dataframe tbody tr th {\n",
       "        vertical-align: top;\n",
       "    }\n",
       "\n",
       "    .dataframe thead th {\n",
       "        text-align: right;\n",
       "    }\n",
       "</style>\n",
       "<table border=\"1\" class=\"dataframe\">\n",
       "  <thead>\n",
       "    <tr style=\"text-align: right;\">\n",
       "      <th></th>\n",
       "      <th>0</th>\n",
       "      <th>1</th>\n",
       "      <th>2</th>\n",
       "      <th>3</th>\n",
       "    </tr>\n",
       "  </thead>\n",
       "  <tbody>\n",
       "    <tr>\n",
       "      <th>0</th>\n",
       "      <td>0.0</td>\n",
       "      <td>3.0</td>\n",
       "      <td>0.683805</td>\n",
       "      <td>2.0</td>\n",
       "    </tr>\n",
       "    <tr>\n",
       "      <th>1</th>\n",
       "      <td>1.0</td>\n",
       "      <td>4.0</td>\n",
       "      <td>0.716019</td>\n",
       "      <td>2.0</td>\n",
       "    </tr>\n",
       "    <tr>\n",
       "      <th>2</th>\n",
       "      <td>5.0</td>\n",
       "      <td>6.0</td>\n",
       "      <td>0.730618</td>\n",
       "      <td>4.0</td>\n",
       "    </tr>\n",
       "    <tr>\n",
       "      <th>3</th>\n",
       "      <td>2.0</td>\n",
       "      <td>7.0</td>\n",
       "      <td>0.814331</td>\n",
       "      <td>5.0</td>\n",
       "    </tr>\n",
       "  </tbody>\n",
       "</table>\n",
       "</div>"
      ],
      "text/plain": [
       "     0    1         2    3\n",
       "0  0.0  3.0  0.683805  2.0\n",
       "1  1.0  4.0  0.716019  2.0\n",
       "2  5.0  6.0  0.730618  4.0\n",
       "3  2.0  7.0  0.814331  5.0"
      ]
     },
     "execution_count": 79,
     "metadata": {},
     "output_type": "execute_result"
    }
   ],
   "source": [
    "Ze"
   ]
  },
  {
   "cell_type": "code",
   "execution_count": null,
   "metadata": {
    "id": "1tiVd6UotZid"
   },
   "outputs": [],
   "source": [
    "def quasi_diagonalization(linkage):\n",
    "    \n",
    "    # The clustered items are sorted based on their distance\n",
    "    \n",
    "    linkage = linkage.astype(int)\n",
    "    \n",
    "    # The last quadriplets first and second consituent items are taken\n",
    "    sort_last = pd.Series([linkage[-1,0], linkage[-1,1]]) \n",
    "    \n",
    "    # The third element of the constituent set represents the total items\n",
    "    num_items = linkage[-1, 3]\n",
    "    \n",
    "  \n",
    "    # if the max_times is less than or equal to the maximum of sort_last\n",
    "    while sort_last.max() >= num_items:\n",
    "        # we assign a 24 by 24 sort_last index \n",
    "        sort_last.index = range(0, sort_last.shape[0]*2, 2) \n",
    "        # the odd numbers are indexed\n",
    "        \n",
    "        df0 = sort_last[sort_last >= num_items] # finding clusters\n",
    "        \n",
    "      \n",
    "        # the cluster and even index are contained in df0\n",
    "        i = df0.index\n",
    "        j = df0.values - num_items  \n",
    "        \n",
    "        sort_last[i] = linkage[j,0] # item#1\n",
    "        \n",
    "        df0  = pd.Series(linkage[j, 1], index=i+1)\n",
    "        \n",
    "        sort_last = sort_last.append(df0)\n",
    "        sort_last = sort_last.sort_index()\n",
    "        \n",
    "        sort_last.index = range(sort_last.shape[0])\n",
    "        \n",
    "    \n",
    "    return sort_last.tolist()"
   ]
  },
  {
   "cell_type": "code",
   "execution_count": null,
   "metadata": {
    "colab": {
     "base_uri": "https://localhost:8080/"
    },
    "executionInfo": {
     "elapsed": 22,
     "status": "ok",
     "timestamp": 1633585902493,
     "user": {
      "displayName": "Tanishq Chauhan",
      "photoUrl": "https://lh3.googleusercontent.com/a-/AOh14GggkDwz2kbsiN3be9s1OYgcBFC5-sc3hTfGRlNnyg=s64",
      "userId": "17101909825884887186"
     },
     "user_tz": -330
    },
    "id": "MbOgDRzHtbJB",
    "outputId": "51d58281-7710-4666-9734-c4bcad5831a7"
   },
   "outputs": [
    {
     "data": {
      "text/plain": [
       "[2, 0, 3, 1, 4]"
      ]
     },
     "execution_count": 81,
     "metadata": {},
     "output_type": "execute_result"
    }
   ],
   "source": [
    "sort_last = quasi_diagonalization(linkage)\n",
    "sort_last"
   ]
  },
  {
   "cell_type": "code",
   "execution_count": null,
   "metadata": {
    "id": "GVk83qGrfDoQ"
   },
   "outputs": [],
   "source": [
    "def cluster_variable(cov, c_items):\n",
    "    cov_ = cov.iloc[c_items, c_items] # slice of matrix\n",
    "    # now we calculate the inverse variance portfolio\n",
    "    ivp = 1./np.diag(cov_)\n",
    "    ivp/=ivp.sum()\n",
    "    w_ = ivp.reshape(-1,1)\n",
    "    c_var = np.dot(np.dot(w_.T, cov_), w_)[0,0]\n",
    "    return c_var\n",
    "\n",
    "def recursive_bisection(cov, sort_last):\n",
    "    # computing Hierarchical Risk Parity allocation\n",
    "    # intializing weights of one\n",
    "    w = pd.Series(1, index=sort_last)\n",
    "    \n",
    "    # intializing all items in a single cluster\n",
    "    c_items = [sort_last]\n",
    "    while len(c_items) > 0:\n",
    "        # recursive bisection\n",
    "        \"\"\"\n",
    "        [[3, 6, 0, 9, 2, 4, 13], [5, 12, 8, 10, 7, 1, 11]]\n",
    "        [[3, 6, 0], [9, 2, 4, 13], [5, 12, 8], [10, 7, 1, 11]]\n",
    "        [[3], [6, 0], [9, 2], [4, 13], [5], [12, 8], [10, 7], [1, 11]]\n",
    "        [[6], [0], [9], [2], [4], [13], [12], [8], [10], [7], [1], [11]]\n",
    "        \"\"\"\n",
    "        c_items = [i[int(j):int(k)] for i in c_items for j,k in \n",
    "                   ((0,len(i)/2),(len(i)/2,len(i))) if len(i)>1]\n",
    "        \n",
    "        # now it has 2\n",
    "        for i in range(0, len(c_items), 2):\n",
    "            \n",
    "            c_items0 = c_items[i] # first cluster\n",
    "            c_items1 = c_items[i+1] # second cluster\n",
    "            \n",
    "            c_var0 = cluster_variable(cov, c_items0)\n",
    "            c_var1 = cluster_variable(cov, c_items1)\n",
    "            \n",
    "            alpha = 1 - c_var0/(c_var0+c_var1)\n",
    "            \n",
    "            w[c_items0] *= alpha\n",
    "            w[c_items1] *=1-alpha\n",
    "    return w"
   ]
  },
  {
   "cell_type": "code",
   "execution_count": null,
   "metadata": {
    "id": "_H0L8y3htgrm"
   },
   "outputs": [],
   "source": [
    "covariance = returns.cov()\n",
    "weights = recursive_bisection(covariance, sort_last)"
   ]
  },
  {
   "cell_type": "code",
   "execution_count": null,
   "metadata": {
    "id": "L_6n_ia9tjzQ"
   },
   "outputs": [],
   "source": [
    "new_index = [returns.columns[i] for i in weights.index]\n",
    "weights.index = new_index"
   ]
  },
  {
   "cell_type": "code",
   "execution_count": null,
   "metadata": {
    "colab": {
     "base_uri": "https://localhost:8080/"
    },
    "executionInfo": {
     "elapsed": 17,
     "status": "ok",
     "timestamp": 1633585902495,
     "user": {
      "displayName": "Tanishq Chauhan",
      "photoUrl": "https://lh3.googleusercontent.com/a-/AOh14GggkDwz2kbsiN3be9s1OYgcBFC5-sc3hTfGRlNnyg=s64",
      "userId": "17101909825884887186"
     },
     "user_tz": -330
    },
    "id": "FcQNcHLgtlfs",
    "outputId": "3e81c0e0-cc21-46a0-bece-1c8278b79b83"
   },
   "outputs": [
    {
     "data": {
      "text/plain": [
       "RELIANCE.NS      0.317518\n",
       "SBIN.NS          0.202151\n",
       "LT.NS            0.302281\n",
       "TATAMOTORS.NS    0.072657\n",
       "TATASTEEL.NS     0.105393\n",
       "dtype: float64"
      ]
     },
     "execution_count": 85,
     "metadata": {},
     "output_type": "execute_result"
    }
   ],
   "source": [
    "weights"
   ]
  }
 ],
 "metadata": {
  "colab": {
   "authorship_tag": "ABX9TyPw+JCD5GzxvwRN1mI7z0JK",
   "collapsed_sections": [],
   "name": "Hierarchical_Risk_Parity.ipynb",
   "provenance": []
  },
  "kernelspec": {
   "display_name": "Python 3 (ipykernel)",
   "language": "python",
   "name": "python3"
  },
  "language_info": {
   "codemirror_mode": {
    "name": "ipython",
    "version": 3
   },
   "file_extension": ".py",
   "mimetype": "text/x-python",
   "name": "python",
   "nbconvert_exporter": "python",
   "pygments_lexer": "ipython3",
   "version": "3.9.6"
  }
 },
 "nbformat": 4,
 "nbformat_minor": 1
}
