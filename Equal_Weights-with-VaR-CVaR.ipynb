{
 "cells": [
  {
   "cell_type": "code",
   "execution_count": null,
   "metadata": {
    "id": "06CfGvQe8rTp"
   },
   "outputs": [],
   "source": [
    "pip install PyPortfolioOpt"
   ]
  },
  {
   "cell_type": "code",
   "execution_count": null,
   "metadata": {
    "id": "pTyGEAap8tEz"
   },
   "outputs": [],
   "source": [
    "pip install yfinance"
   ]
  },
  {
   "cell_type": "code",
   "execution_count": null,
   "metadata": {
    "id": "MIZdovsh8u7X"
   },
   "outputs": [],
   "source": [
    "pip install pulp"
   ]
  },
  {
   "cell_type": "code",
   "execution_count": null,
   "metadata": {
    "id": "3slTC5ml8xQB"
   },
   "outputs": [],
   "source": [
    "pip install quandl"
   ]
  },
  {
   "cell_type": "code",
   "execution_count": 1,
   "metadata": {
    "colab": {
     "base_uri": "https://localhost:8080/",
     "height": 238
    },
    "executionInfo": {
     "elapsed": 53,
     "status": "ok",
     "timestamp": 1633585901469,
     "user": {
      "displayName": "Tanishq Chauhan",
      "photoUrl": "https://lh3.googleusercontent.com/a-/AOh14GggkDwz2kbsiN3be9s1OYgcBFC5-sc3hTfGRlNnyg=s64",
      "userId": "17101909825884887186"
     },
     "user_tz": -330
    },
    "id": "W7_ne6HBSz2j",
    "outputId": "e65c531b-d411-46ae-eb21-739e44f55e44",
    "scrolled": true
   },
   "outputs": [
    {
     "data": {
      "text/html": [
       "<div>\n",
       "<style scoped>\n",
       "    .dataframe tbody tr th:only-of-type {\n",
       "        vertical-align: middle;\n",
       "    }\n",
       "\n",
       "    .dataframe tbody tr th {\n",
       "        vertical-align: top;\n",
       "    }\n",
       "\n",
       "    .dataframe thead th {\n",
       "        text-align: right;\n",
       "    }\n",
       "</style>\n",
       "<table border=\"1\" class=\"dataframe\">\n",
       "  <thead>\n",
       "    <tr style=\"text-align: right;\">\n",
       "      <th></th>\n",
       "      <th>SBIN.NS</th>\n",
       "      <th>TATAMOTORS.NS</th>\n",
       "      <th>RELIANCE.NS</th>\n",
       "      <th>LT.NS</th>\n",
       "      <th>TATASTEEL.NS</th>\n",
       "    </tr>\n",
       "    <tr>\n",
       "      <th>Date</th>\n",
       "      <th></th>\n",
       "      <th></th>\n",
       "      <th></th>\n",
       "      <th></th>\n",
       "      <th></th>\n",
       "    </tr>\n",
       "  </thead>\n",
       "  <tbody>\n",
       "    <tr>\n",
       "      <th>2021-08-24</th>\n",
       "      <td>0.019780</td>\n",
       "      <td>0.010291</td>\n",
       "      <td>0.009873</td>\n",
       "      <td>0.015847</td>\n",
       "      <td>0.033857</td>\n",
       "    </tr>\n",
       "    <tr>\n",
       "      <th>2021-08-25</th>\n",
       "      <td>-0.003233</td>\n",
       "      <td>0.016440</td>\n",
       "      <td>0.008655</td>\n",
       "      <td>-0.007473</td>\n",
       "      <td>-0.010287</td>\n",
       "    </tr>\n",
       "    <tr>\n",
       "      <th>2021-08-26</th>\n",
       "      <td>-0.013213</td>\n",
       "      <td>-0.000352</td>\n",
       "      <td>0.012644</td>\n",
       "      <td>0.001223</td>\n",
       "      <td>-0.010898</td>\n",
       "    </tr>\n",
       "    <tr>\n",
       "      <th>2021-08-27</th>\n",
       "      <td>0.004139</td>\n",
       "      <td>0.005100</td>\n",
       "      <td>-0.001367</td>\n",
       "      <td>0.026539</td>\n",
       "      <td>0.006618</td>\n",
       "    </tr>\n",
       "    <tr>\n",
       "      <th>2021-08-30</th>\n",
       "      <td>0.024851</td>\n",
       "      <td>0.021697</td>\n",
       "      <td>0.019238</td>\n",
       "      <td>0.013430</td>\n",
       "      <td>0.040783</td>\n",
       "    </tr>\n",
       "  </tbody>\n",
       "</table>\n",
       "</div>"
      ],
      "text/plain": [
       "             SBIN.NS  TATAMOTORS.NS  RELIANCE.NS     LT.NS  TATASTEEL.NS\n",
       "Date                                                                    \n",
       "2021-08-24  0.019780       0.010291     0.009873  0.015847      0.033857\n",
       "2021-08-25 -0.003233       0.016440     0.008655 -0.007473     -0.010287\n",
       "2021-08-26 -0.013213      -0.000352     0.012644  0.001223     -0.010898\n",
       "2021-08-27  0.004139       0.005100    -0.001367  0.026539      0.006618\n",
       "2021-08-30  0.024851       0.021697     0.019238  0.013430      0.040783"
      ]
     },
     "execution_count": 1,
     "metadata": {},
     "output_type": "execute_result"
    }
   ],
   "source": [
    "#equal risk contribution / risk parity\n",
    "import numpy as np\n",
    "import pandas as pd\n",
    "import matplotlib.pyplot as plt\n",
    "%matplotlib inline\n",
    "\n",
    "df= pd.read_csv(\"capstone_input_data.csv\")\n",
    "df.Date = pd.to_datetime(df.Date, dayfirst = True)\n",
    "df.set_index(\"Date\", inplace = True)\n",
    "Portfolio_value = 10000000\n",
    "returns = df.pct_change()\n",
    "returns = returns[1:]\n",
    "returns.shape\n",
    "returns.tail()"
   ]
  },
  {
   "cell_type": "code",
   "execution_count": 2,
   "metadata": {},
   "outputs": [],
   "source": [
    "Portfolio_value = 10000000"
   ]
  },
  {
   "cell_type": "code",
   "execution_count": 3,
   "metadata": {},
   "outputs": [
    {
     "data": {
      "text/plain": [
       "(1, 5)"
      ]
     },
     "execution_count": 3,
     "metadata": {},
     "output_type": "execute_result"
    }
   ],
   "source": [
    "weights = pd.read_csv(\"weightsEqual.csv\")\n",
    "weights= np.array(weights)\n",
    "weights.shape"
   ]
  },
  {
   "cell_type": "code",
   "execution_count": 4,
   "metadata": {},
   "outputs": [
    {
     "data": {
      "text/plain": [
       "(1495,)"
      ]
     },
     "execution_count": 4,
     "metadata": {},
     "output_type": "execute_result"
    }
   ],
   "source": [
    "pnl = (weights * returns.values).sum(axis=1)\n",
    "pnl.shape"
   ]
  },
  {
   "cell_type": "code",
   "execution_count": 5,
   "metadata": {},
   "outputs": [
    {
     "data": {
      "text/plain": [
       "-0.04767292172360092"
      ]
     },
     "execution_count": 5,
     "metadata": {},
     "output_type": "execute_result"
    }
   ],
   "source": [
    "historic_var95 = np.percentile(pnl, 5, interpolation = \"lower\")\n",
    "historic_var99 = np.percentile(pnl, 1, interpolation = \"lower\")\n",
    "historic_var99"
   ]
  },
  {
   "cell_type": "code",
   "execution_count": 6,
   "metadata": {},
   "outputs": [
    {
     "data": {
      "text/plain": [
       "-1187588.4646253036"
      ]
     },
     "execution_count": 6,
     "metadata": {},
     "output_type": "execute_result"
    }
   ],
   "source": [
    "Daily_VaR95 = Portfolio_value*historic_var95\n",
    "Monthly_VaR95 = Daily_VaR95 * np.sqrt(22)\n",
    "Monthly_VaR95"
   ]
  },
  {
   "cell_type": "code",
   "execution_count": 7,
   "metadata": {},
   "outputs": [
    {
     "data": {
      "text/plain": [
       "-2236058.2336920653"
      ]
     },
     "execution_count": 7,
     "metadata": {},
     "output_type": "execute_result"
    }
   ],
   "source": [
    "Daily_VaR99 = Portfolio_value*historic_var99\n",
    "Monthly_VaR99 = Daily_VaR99 * np.sqrt(22)\n",
    "Monthly_VaR99"
   ]
  },
  {
   "cell_type": "markdown",
   "metadata": {},
   "source": [
    "### CVaR"
   ]
  },
  {
   "cell_type": "code",
   "execution_count": 9,
   "metadata": {},
   "outputs": [
    {
     "data": {
      "text/plain": [
       "-0.038911704371909654"
      ]
     },
     "execution_count": 9,
     "metadata": {},
     "output_type": "execute_result"
    }
   ],
   "source": [
    "var_level = 95\n",
    "var_95 = np.percentile(pnl, 100 - var_level)\n",
    "cvar_95 = pnl[pnl <= var_95].mean()\n",
    "cvar_95"
   ]
  },
  {
   "cell_type": "code",
   "execution_count": 10,
   "metadata": {},
   "outputs": [
    {
     "data": {
      "text/plain": [
       "-389117.0437190965"
      ]
     },
     "execution_count": 10,
     "metadata": {},
     "output_type": "execute_result"
    }
   ],
   "source": [
    "CVaR_port =cvar_95*Portfolio_value\n",
    "CVaR_port"
   ]
  },
  {
   "cell_type": "code",
   "execution_count": 11,
   "metadata": {},
   "outputs": [
    {
     "data": {
      "text/plain": [
       "-674403.0657800626"
      ]
     },
     "execution_count": 11,
     "metadata": {},
     "output_type": "execute_result"
    }
   ],
   "source": [
    "var_level2 = 99\n",
    "var_99 = np.percentile(pnl, 100 - var_level2)\n",
    "cvar_99 = pnl[pnl <= var_99].mean()\n",
    "CVaR_port99 =cvar_99*Portfolio_value\n",
    "CVaR_port99"
   ]
  },
  {
   "cell_type": "code",
   "execution_count": 12,
   "metadata": {},
   "outputs": [],
   "source": [
    "output = [['Portfolio Value', Portfolio_value], ['Daily_VaR_95', Daily_VaR95],['Monthly_VaR95', Monthly_VaR95],['Daily_VaR_99', Daily_VaR99],['Monthly_VaR99', Monthly_VaR99], ['Daily_CVAR_95', CVaR_port],['Daily_CVAR_99', CVaR_port99]] "
   ]
  },
  {
   "cell_type": "code",
   "execution_count": 13,
   "metadata": {},
   "outputs": [
    {
     "data": {
      "text/html": [
       "<div>\n",
       "<style scoped>\n",
       "    .dataframe tbody tr th:only-of-type {\n",
       "        vertical-align: middle;\n",
       "    }\n",
       "\n",
       "    .dataframe tbody tr th {\n",
       "        vertical-align: top;\n",
       "    }\n",
       "\n",
       "    .dataframe thead th {\n",
       "        text-align: right;\n",
       "    }\n",
       "</style>\n",
       "<table border=\"1\" class=\"dataframe\">\n",
       "  <thead>\n",
       "    <tr style=\"text-align: right;\">\n",
       "      <th></th>\n",
       "      <th>Details</th>\n",
       "      <th>Amount in Mn</th>\n",
       "    </tr>\n",
       "  </thead>\n",
       "  <tbody>\n",
       "    <tr>\n",
       "      <th>0</th>\n",
       "      <td>Portfolio Value</td>\n",
       "      <td>1.000000e+07</td>\n",
       "    </tr>\n",
       "    <tr>\n",
       "      <th>1</th>\n",
       "      <td>Daily_VaR_95</td>\n",
       "      <td>-2.531947e+05</td>\n",
       "    </tr>\n",
       "    <tr>\n",
       "      <th>2</th>\n",
       "      <td>Monthly_VaR95</td>\n",
       "      <td>-1.187588e+06</td>\n",
       "    </tr>\n",
       "    <tr>\n",
       "      <th>3</th>\n",
       "      <td>Daily_VaR_99</td>\n",
       "      <td>-4.767292e+05</td>\n",
       "    </tr>\n",
       "    <tr>\n",
       "      <th>4</th>\n",
       "      <td>Monthly_VaR99</td>\n",
       "      <td>-2.236058e+06</td>\n",
       "    </tr>\n",
       "    <tr>\n",
       "      <th>5</th>\n",
       "      <td>Daily_CVAR_95</td>\n",
       "      <td>-3.891170e+05</td>\n",
       "    </tr>\n",
       "    <tr>\n",
       "      <th>6</th>\n",
       "      <td>Daily_CVAR_99</td>\n",
       "      <td>-6.744031e+05</td>\n",
       "    </tr>\n",
       "  </tbody>\n",
       "</table>\n",
       "</div>"
      ],
      "text/plain": [
       "           Details   Amount in Mn\n",
       "0  Portfolio Value   1.000000e+07\n",
       "1     Daily_VaR_95  -2.531947e+05\n",
       "2    Monthly_VaR95  -1.187588e+06\n",
       "3     Daily_VaR_99  -4.767292e+05\n",
       "4    Monthly_VaR99  -2.236058e+06\n",
       "5    Daily_CVAR_95  -3.891170e+05\n",
       "6    Daily_CVAR_99  -6.744031e+05"
      ]
     },
     "execution_count": 13,
     "metadata": {},
     "output_type": "execute_result"
    }
   ],
   "source": [
    "output2 = pd.DataFrame(output, columns=['Details', \" Amount in Mn\"])\n",
    "output2"
   ]
  },
  {
   "cell_type": "markdown",
   "metadata": {},
   "source": [
    "- VaR is conventionally reported as a positive number. \n",
    "- A negative VaR would imply the portfolio has a high probability of making a profit\n",
    "- For example a one-day 5% VaR of negative 1 million implies the portfolio has a 95 percent chance of making more than 1 million over the next day."
   ]
  }
 ],
 "metadata": {
  "colab": {
   "authorship_tag": "ABX9TyPMH1qXwxFsd/SRPyG4a4lq",
   "collapsed_sections": [],
   "name": "Equal_Risk_Contribution_aka_Risk_Parity.ipynb",
   "provenance": []
  },
  "kernelspec": {
   "display_name": "Python 3 (ipykernel)",
   "language": "python",
   "name": "python3"
  },
  "language_info": {
   "codemirror_mode": {
    "name": "ipython",
    "version": 3
   },
   "file_extension": ".py",
   "mimetype": "text/x-python",
   "name": "python",
   "nbconvert_exporter": "python",
   "pygments_lexer": "ipython3",
   "version": "3.9.6"
  }
 },
 "nbformat": 4,
 "nbformat_minor": 1
}
