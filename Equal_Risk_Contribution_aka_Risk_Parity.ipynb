{
 "cells": [
  {
   "cell_type": "code",
   "execution_count": null,
   "metadata": {
    "id": "06CfGvQe8rTp"
   },
   "outputs": [],
   "source": [
    "pip install PyPortfolioOpt"
   ]
  },
  {
   "cell_type": "code",
   "execution_count": null,
   "metadata": {
    "id": "pTyGEAap8tEz"
   },
   "outputs": [],
   "source": [
    "pip install yfinance"
   ]
  },
  {
   "cell_type": "code",
   "execution_count": null,
   "metadata": {
    "id": "MIZdovsh8u7X"
   },
   "outputs": [],
   "source": [
    "pip install pulp"
   ]
  },
  {
   "cell_type": "code",
   "execution_count": null,
   "metadata": {
    "id": "3slTC5ml8xQB"
   },
   "outputs": [],
   "source": [
    "pip install quandl"
   ]
  },
  {
   "cell_type": "code",
   "execution_count": 1,
   "metadata": {
    "colab": {
     "base_uri": "https://localhost:8080/",
     "height": 238
    },
    "executionInfo": {
     "elapsed": 53,
     "status": "ok",
     "timestamp": 1633585901469,
     "user": {
      "displayName": "Tanishq Chauhan",
      "photoUrl": "https://lh3.googleusercontent.com/a-/AOh14GggkDwz2kbsiN3be9s1OYgcBFC5-sc3hTfGRlNnyg=s64",
      "userId": "17101909825884887186"
     },
     "user_tz": -330
    },
    "id": "W7_ne6HBSz2j",
    "outputId": "e65c531b-d411-46ae-eb21-739e44f55e44"
   },
   "outputs": [
    {
     "data": {
      "text/html": [
       "<div>\n",
       "<style scoped>\n",
       "    .dataframe tbody tr th:only-of-type {\n",
       "        vertical-align: middle;\n",
       "    }\n",
       "\n",
       "    .dataframe tbody tr th {\n",
       "        vertical-align: top;\n",
       "    }\n",
       "\n",
       "    .dataframe thead th {\n",
       "        text-align: right;\n",
       "    }\n",
       "</style>\n",
       "<table border=\"1\" class=\"dataframe\">\n",
       "  <thead>\n",
       "    <tr style=\"text-align: right;\">\n",
       "      <th></th>\n",
       "      <th>SBIN.NS</th>\n",
       "      <th>TATAMOTORS.NS</th>\n",
       "      <th>RELIANCE.NS</th>\n",
       "      <th>LT.NS</th>\n",
       "      <th>TATASTEEL.NS</th>\n",
       "    </tr>\n",
       "    <tr>\n",
       "      <th>Date</th>\n",
       "      <th></th>\n",
       "      <th></th>\n",
       "      <th></th>\n",
       "      <th></th>\n",
       "      <th></th>\n",
       "    </tr>\n",
       "  </thead>\n",
       "  <tbody>\n",
       "    <tr>\n",
       "      <th>2021-08-24</th>\n",
       "      <td>0.019780</td>\n",
       "      <td>0.010291</td>\n",
       "      <td>0.009873</td>\n",
       "      <td>0.015847</td>\n",
       "      <td>0.033857</td>\n",
       "    </tr>\n",
       "    <tr>\n",
       "      <th>2021-08-25</th>\n",
       "      <td>-0.003233</td>\n",
       "      <td>0.016440</td>\n",
       "      <td>0.008655</td>\n",
       "      <td>-0.007473</td>\n",
       "      <td>-0.010287</td>\n",
       "    </tr>\n",
       "    <tr>\n",
       "      <th>2021-08-26</th>\n",
       "      <td>-0.013213</td>\n",
       "      <td>-0.000352</td>\n",
       "      <td>0.012644</td>\n",
       "      <td>0.001223</td>\n",
       "      <td>-0.010898</td>\n",
       "    </tr>\n",
       "    <tr>\n",
       "      <th>2021-08-27</th>\n",
       "      <td>0.004139</td>\n",
       "      <td>0.005100</td>\n",
       "      <td>-0.001367</td>\n",
       "      <td>0.026539</td>\n",
       "      <td>0.006618</td>\n",
       "    </tr>\n",
       "    <tr>\n",
       "      <th>2021-08-30</th>\n",
       "      <td>0.024851</td>\n",
       "      <td>0.021697</td>\n",
       "      <td>0.019238</td>\n",
       "      <td>0.013430</td>\n",
       "      <td>0.040783</td>\n",
       "    </tr>\n",
       "  </tbody>\n",
       "</table>\n",
       "</div>"
      ],
      "text/plain": [
       "             SBIN.NS  TATAMOTORS.NS  RELIANCE.NS     LT.NS  TATASTEEL.NS\n",
       "Date                                                                    \n",
       "2021-08-24  0.019780       0.010291     0.009873  0.015847      0.033857\n",
       "2021-08-25 -0.003233       0.016440     0.008655 -0.007473     -0.010287\n",
       "2021-08-26 -0.013213      -0.000352     0.012644  0.001223     -0.010898\n",
       "2021-08-27  0.004139       0.005100    -0.001367  0.026539      0.006618\n",
       "2021-08-30  0.024851       0.021697     0.019238  0.013430      0.040783"
      ]
     },
     "execution_count": 1,
     "metadata": {},
     "output_type": "execute_result"
    }
   ],
   "source": [
    "#equal risk contribution / risk parity\n",
    "import numpy as np\n",
    "import pandas as pd\n",
    "import matplotlib.pyplot as plt\n",
    "%matplotlib inline\n",
    "\n",
    "df= pd.read_csv(\"capstone_input_data.csv\")\n",
    "df.Date = pd.to_datetime(df.Date, dayfirst = True)\n",
    "df.set_index(\"Date\", inplace = True)\n",
    "rets=df.pct_change()\n",
    "#rets = df[1:]\n",
    "rets.tail()"
   ]
  },
  {
   "cell_type": "code",
   "execution_count": null,
   "metadata": {
    "id": "ba5kYWx3TEtO"
   },
   "outputs": [],
   "source": [
    "cov = rets.cov()\n",
    "\n",
    "# Equal-weights function\n",
    "def equal_weights(rets):\n",
    "    n = len(rets.columns)\n",
    "    weights = pd.Series(1/n, index = rets.columns)\n",
    "    return weights\n",
    "\n",
    "# Portfolio Volatility\n",
    "def pf_vol(weights, cov):\n",
    "    return (weights.T @ cov @ weights)**0.5\n",
    "\n",
    "# Risk-contributions for each asset towards the overall portfolio volatility\n",
    "def risk_cont(weights, cov):\n",
    "    pf_volatility = pf_vol(weights, cov) ** 2\n",
    "    risk = cov@weights\n",
    "    risk_contribution = np.multiply(risk, weights.T)/pf_volatility\n",
    "    return risk_contribution"
   ]
  },
  {
   "cell_type": "code",
   "execution_count": null,
   "metadata": {
    "colab": {
     "base_uri": "https://localhost:8080/",
     "height": 373
    },
    "executionInfo": {
     "elapsed": 53,
     "status": "ok",
     "timestamp": 1633585901470,
     "user": {
      "displayName": "Tanishq Chauhan",
      "photoUrl": "https://lh3.googleusercontent.com/a-/AOh14GggkDwz2kbsiN3be9s1OYgcBFC5-sc3hTfGRlNnyg=s64",
      "userId": "17101909825884887186"
     },
     "user_tz": -330
    },
    "id": "w1ELGWqUTHgN",
    "outputId": "5e2cf5d7-43f8-4f60-957c-6d74801c7bec"
   },
   "outputs": [
    {
     "data": {
      "text/plain": [
       "<matplotlib.axes._subplots.AxesSubplot at 0x7f71f6e5c5d0>"
      ]
     },
     "execution_count": 69,
     "metadata": {},
     "output_type": "execute_result"
    },
    {
     "data": {
      "image/png": "[encoded data removed]",
      "text/plain": [
       "<Figure size 432x288 with 1 Axes>"
      ]
     },
     "metadata": {
      "needs_background": "light"
     },
     "output_type": "display_data"
    }
   ],
   "source": [
    "# Risk-contributions for an equally-weighted portfolio\n",
    "risk_cont(equal_weights(rets), cov).plot.bar(title = \"Risk allocation of an equally-weight dollar portfolio\")"
   ]
  },
  {
   "cell_type": "code",
   "execution_count": null,
   "metadata": {
    "id": "l0e2ImykTJDD"
   },
   "outputs": [],
   "source": [
    "from scipy.optimize import minimize\n",
    "\n",
    "# Find optimal dollar weights such that the risk-contributions meet a target contribution level, in this case being 1/n = 0.2 for each asset\n",
    "\n",
    "def t_risk_cont(t_risk, cov):\n",
    "    n = cov.shape[0]\n",
    "    initial_guess = np.repeat(1/n, n)\n",
    "    bounds = ((0, 1),) * n\n",
    "    weights_constraint = {'type': 'eq',\n",
    "                         'fun': lambda weights: np.sum(weights) - 1}\n",
    "    def msd(weights, t_risk, cov):\n",
    "        contributions = risk_cont(weights, cov)\n",
    "        return ((contributions - t_risk)**2).sum()\n",
    "    \n",
    "    weights = minimize(msd, initial_guess,\n",
    "                       args=(t_risk, cov), method='SLSQP',\n",
    "                       options={'disp': False},\n",
    "                       constraints=(weights_constraint,),\n",
    "                       bounds=bounds)\n",
    "    return weights.x\n",
    "\n",
    "def equal_risk_cont(cov):\n",
    "    n = cov.shape[0]\n",
    "    return t_risk_cont(np.repeat(1/n, n), cov)"
   ]
  },
  {
   "cell_type": "code",
   "execution_count": null,
   "metadata": {
    "colab": {
     "base_uri": "https://localhost:8080/",
     "height": 373
    },
    "executionInfo": {
     "elapsed": 47,
     "status": "ok",
     "timestamp": 1633585901470,
     "user": {
      "displayName": "Tanishq Chauhan",
      "photoUrl": "https://lh3.googleusercontent.com/a-/AOh14GggkDwz2kbsiN3be9s1OYgcBFC5-sc3hTfGRlNnyg=s64",
      "userId": "17101909825884887186"
     },
     "user_tz": -330
    },
    "id": "pY46pYIATLf7",
    "outputId": "f358850b-f01f-4f9f-ce8b-1a6b2011dbe6"
   },
   "outputs": [
    {
     "data": {
      "text/plain": [
       "<matplotlib.axes._subplots.AxesSubplot at 0x7f71c53c1110>"
      ]
     },
     "execution_count": 71,
     "metadata": {},
     "output_type": "execute_result"
    },
    {
     "data": {
      "image/png": "[encoded data removed]",
      "text/plain": [
       "<Figure size 432x288 with 1 Axes>"
      ]
     },
     "metadata": {
      "needs_background": "light"
     },
     "output_type": "display_data"
    }
   ],
   "source": [
    "# Risk-parity allocation levels for risk. We see that they are equal i.e 0.2\n",
    "\n",
    "risk_cont(equal_risk_cont(cov), cov).plot.bar(title=\"Risk Contributions of a Risk Parity portfolio\")"
   ]
  },
  {
   "cell_type": "code",
   "execution_count": null,
   "metadata": {
    "colab": {
     "base_uri": "https://localhost:8080/",
     "height": 206
    },
    "executionInfo": {
     "elapsed": 44,
     "status": "ok",
     "timestamp": 1633585901471,
     "user": {
      "displayName": "Tanishq Chauhan",
      "photoUrl": "https://lh3.googleusercontent.com/a-/AOh14GggkDwz2kbsiN3be9s1OYgcBFC5-sc3hTfGRlNnyg=s64",
      "userId": "17101909825884887186"
     },
     "user_tz": -330
    },
    "id": "saxDTPPATNY6",
    "outputId": "427d9284-58e0-4655-e38d-27fdd945adac"
   },
   "outputs": [
    {
     "data": {
      "text/html": [
       "<div>\n",
       "<style scoped>\n",
       "    .dataframe tbody tr th:only-of-type {\n",
       "        vertical-align: middle;\n",
       "    }\n",
       "\n",
       "    .dataframe tbody tr th {\n",
       "        vertical-align: top;\n",
       "    }\n",
       "\n",
       "    .dataframe thead th {\n",
       "        text-align: right;\n",
       "    }\n",
       "</style>\n",
       "<table border=\"1\" class=\"dataframe\">\n",
       "  <thead>\n",
       "    <tr style=\"text-align: right;\">\n",
       "      <th></th>\n",
       "      <th>Weight</th>\n",
       "    </tr>\n",
       "  </thead>\n",
       "  <tbody>\n",
       "    <tr>\n",
       "      <th>SBIN.NS</th>\n",
       "      <td>18.217026</td>\n",
       "    </tr>\n",
       "    <tr>\n",
       "      <th>TATAMOTORS.NS</th>\n",
       "      <td>14.781808</td>\n",
       "    </tr>\n",
       "    <tr>\n",
       "      <th>RELIANCE.NS</th>\n",
       "      <td>25.599156</td>\n",
       "    </tr>\n",
       "    <tr>\n",
       "      <th>LT.NS</th>\n",
       "      <td>24.162237</td>\n",
       "    </tr>\n",
       "    <tr>\n",
       "      <th>TATASTEEL.NS</th>\n",
       "      <td>17.239773</td>\n",
       "    </tr>\n",
       "  </tbody>\n",
       "</table>\n",
       "</div>"
      ],
      "text/plain": [
       "                  Weight\n",
       "SBIN.NS        18.217026\n",
       "TATAMOTORS.NS  14.781808\n",
       "RELIANCE.NS    25.599156\n",
       "LT.NS          24.162237\n",
       "TATASTEEL.NS   17.239773"
      ]
     },
     "execution_count": 72,
     "metadata": {},
     "output_type": "execute_result"
    }
   ],
   "source": [
    "# Find optimal weights to put in each industry based on the above risk-allocation levels above of 0.2\n",
    "\n",
    "def sample_covariance(rets):\n",
    "    return rets.cov()\n",
    "\n",
    "def weight_rp(rets):\n",
    "    est_cov = sample_covariance(rets)\n",
    "    return equal_risk_cont(est_cov)\n",
    "\n",
    "pd.DataFrame(weight_rp(rets) * 100, index = rets.columns, columns = [\"Weight\"])"
   ]
  }
 ],
 "metadata": {
  "colab": {
   "authorship_tag": "ABX9TyPMH1qXwxFsd/SRPyG4a4lq",
   "collapsed_sections": [],
   "name": "Equal_Risk_Contribution_aka_Risk_Parity.ipynb",
   "provenance": []
  },
  "kernelspec": {
   "display_name": "Python 3 (ipykernel)",
   "language": "python",
   "name": "python3"
  },
  "language_info": {
   "codemirror_mode": {
    "name": "ipython",
    "version": 3
   },
   "file_extension": ".py",
   "mimetype": "text/x-python",
   "name": "python",
   "nbconvert_exporter": "python",
   "pygments_lexer": "ipython3",
   "version": "3.9.6"
  }
 },
 "nbformat": 4,
 "nbformat_minor": 1
}
